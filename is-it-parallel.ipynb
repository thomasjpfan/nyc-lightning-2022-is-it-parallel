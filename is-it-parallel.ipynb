{
 "cells": [
  {
   "cell_type": "markdown",
   "id": "985670d6",
   "metadata": {
    "slideshow": {
     "slide_type": "slide"
    }
   },
   "source": [
    "## When is NumPy parallel?"
   ]
  },
  {
   "cell_type": "code",
   "execution_count": null,
   "id": "f696c4a5",
   "metadata": {
    "slideshow": {
     "slide_type": "slide"
    }
   },
   "outputs": [],
   "source": [
    "import numpy as np\n",
    "rng = np.random.default_rng(10)"
   ]
  },
  {
   "cell_type": "markdown",
   "id": "538e7aa4-49c6-40ab-8857-92b7def38e63",
   "metadata": {
    "slideshow": {
     "slide_type": "slide"
    },
    "tags": []
   },
   "source": [
    "## Is @ parallel?"
   ]
  },
  {
   "cell_type": "code",
   "execution_count": null,
   "id": "0144ad33-e4a6-4da0-b6af-1f52c1347d92",
   "metadata": {
    "slideshow": {
     "slide_type": "-"
    }
   },
   "outputs": [],
   "source": [
    "A = rng.standard_normal(size=(15_000, 15_000))\n",
    "B = rng.standard_normal(size=(15_000, 15_000))"
   ]
  },
  {
   "cell_type": "code",
   "execution_count": null,
   "id": "8bd187fa-220f-4d52-87f5-f051f1782c90",
   "metadata": {
    "slideshow": {
     "slide_type": "-"
    }
   },
   "outputs": [],
   "source": [
    "C = A @ B"
   ]
  },
  {
   "cell_type": "code",
   "execution_count": null,
   "id": "357bfd0b-4298-4e60-975b-b37036362f29",
   "metadata": {
    "slideshow": {
     "slide_type": "subslide"
    }
   },
   "outputs": [],
   "source": [
    "from threadpoolctl import threadpool_limits"
   ]
  },
  {
   "cell_type": "code",
   "execution_count": null,
   "id": "5200f793-c837-48ad-b204-7c3f9d1f8f76",
   "metadata": {},
   "outputs": [],
   "source": [
    "with threadpool_limits(limits=8, user_api=\"blas\"):\n",
    "    C = A @ B"
   ]
  },
  {
   "cell_type": "markdown",
   "id": "9df059e7-5abf-4cde-b692-79e3b44a124e",
   "metadata": {
    "slideshow": {
     "slide_type": "slide"
    },
    "tags": []
   },
   "source": [
    "## Is svd parallel?"
   ]
  },
  {
   "cell_type": "code",
   "execution_count": null,
   "id": "4c2432d7-a60d-4ab0-b095-a70f7b846201",
   "metadata": {},
   "outputs": [],
   "source": [
    "A = rng.standard_normal(size=(5_000, 3_000))"
   ]
  },
  {
   "cell_type": "code",
   "execution_count": null,
   "id": "cfe1ebef-7486-4000-8e45-e123c06a7189",
   "metadata": {},
   "outputs": [],
   "source": [
    "_ = np.linalg.svd(A)"
   ]
  },
  {
   "cell_type": "code",
   "execution_count": null,
   "id": "08d371dd-9ed2-4536-8a3e-f628e201cb5a",
   "metadata": {
    "slideshow": {
     "slide_type": "subslide"
    }
   },
   "outputs": [],
   "source": [
    "with threadpool_limits(limits=8, user_api=\"blas\"):\n",
    "    _ = np.linalg.svd(A)"
   ]
  },
  {
   "cell_type": "markdown",
   "id": "9a2fb343-efe0-4d61-a38d-50dd3c459f07",
   "metadata": {
    "slideshow": {
     "slide_type": "slide"
    },
    "tags": []
   },
   "source": [
    "## Is np.exp parallel?"
   ]
  },
  {
   "cell_type": "code",
   "execution_count": null,
   "id": "3dee3817-d83a-4d86-9143-0121de65b6d0",
   "metadata": {},
   "outputs": [],
   "source": [
    "A = rng.standard_normal(size=(2_000_000))\n",
    "out = np.empty_like(A)"
   ]
  },
  {
   "cell_type": "code",
   "execution_count": null,
   "id": "159c5f07-dcb7-4e1d-97c7-9a728bd1581f",
   "metadata": {},
   "outputs": [],
   "source": [
    "%%timeit\n",
    "_ = np.exp(A, out=out)"
   ]
  },
  {
   "cell_type": "markdown",
   "id": "a5f54f5a",
   "metadata": {
    "slideshow": {
     "slide_type": "slide"
    }
   },
   "source": [
    "## When is NumPy parallel?\n",
    "\n",
    "### Everything in https://numpy.org/doc/stable/reference/routines.linalg.html"
   ]
  },
  {
   "cell_type": "markdown",
   "id": "7c2e7f91-8639-4bcc-be90-556560e40593",
   "metadata": {
    "slideshow": {
     "slide_type": "slide"
    }
   },
   "source": [
    "## Can we make np.exp parallel?"
   ]
  },
  {
   "cell_type": "markdown",
   "id": "e8f310ca-67bf-4443-8184-9ecaccee9cc6",
   "metadata": {
    "slideshow": {
     "slide_type": "slide"
    },
    "tags": []
   },
   "source": [
    "### Cython"
   ]
  },
  {
   "cell_type": "code",
   "execution_count": null,
   "id": "c85e340d-3736-4fd8-a8ef-77d2fd4a810f",
   "metadata": {},
   "outputs": [],
   "source": [
    "%load_ext Cython"
   ]
  },
  {
   "cell_type": "code",
   "execution_count": null,
   "id": "aa3af98a-3321-4402-8959-5757b6088fa2",
   "metadata": {
    "slideshow": {
     "slide_type": "subslide"
    }
   },
   "outputs": [],
   "source": [
    "%%cython\n",
    "# cython: language_level=3, boundscheck=False, initializedcheck=False, wraparound=False\n",
    "# distutils: extra_compile_args=-fopenmp\n",
    "# distutils: extra_link_args=-fopenmp\n",
    "\n",
    "from cython.parallel cimport prange\n",
    "from libc.math cimport exp\n",
    "\n",
    "def cython_exp(double[::1] A, double[::1] out):\n",
    "    cdef int i\n",
    "    for i in prange(A.shape[0], nogil=True):\n",
    "        out[i] = exp(A[i])"
   ]
  },
  {
   "cell_type": "code",
   "execution_count": null,
   "id": "fcd80a40-e9a4-47ff-9553-fbf9aaa4bc48",
   "metadata": {
    "slideshow": {
     "slide_type": "subslide"
    }
   },
   "outputs": [],
   "source": [
    "out2 = np.empty_like(A)"
   ]
  },
  {
   "cell_type": "code",
   "execution_count": null,
   "id": "dd731f12-9d72-44a6-a45d-5e37df9f6d37",
   "metadata": {},
   "outputs": [],
   "source": [
    "%%timeit\n",
    "cython_exp(A, out=out2)"
   ]
  },
  {
   "cell_type": "code",
   "execution_count": null,
   "id": "962ec379-fc10-4bba-9906-aba65d73fbd0",
   "metadata": {
    "slideshow": {
     "slide_type": "subslide"
    }
   },
   "outputs": [],
   "source": [
    "%%timeit\n",
    "with threadpool_limits(limits=8, user_api=\"openmp\"):\n",
    "    _ = cython_exp(A, out=out2)"
   ]
  },
  {
   "cell_type": "markdown",
   "id": "dbf61229-9a22-41d0-b1b5-0c1e3a3ad60d",
   "metadata": {
    "slideshow": {
     "slide_type": "slide"
    },
    "tags": []
   },
   "source": [
    "### Numba"
   ]
  },
  {
   "cell_type": "code",
   "execution_count": null,
   "id": "31134d86-89f6-4672-b421-7d8ac5b84460",
   "metadata": {
    "slideshow": {
     "slide_type": "subslide"
    }
   },
   "outputs": [],
   "source": [
    "from numba import njit, prange\n",
    "from math import exp\n",
    "\n",
    "@njit(parallel=True)\n",
    "def numba_exp(A, out):\n",
    "    for i in prange(A.shape[0]):\n",
    "        out[i] = exp(A[i])"
   ]
  },
  {
   "cell_type": "code",
   "execution_count": null,
   "id": "cd7fe387-081d-4e7b-b552-613abc7ce497",
   "metadata": {
    "slideshow": {
     "slide_type": "subslide"
    }
   },
   "outputs": [],
   "source": [
    "out3 = np.empty_like(A)"
   ]
  },
  {
   "cell_type": "code",
   "execution_count": null,
   "id": "e74418a9-ca3b-449c-ab63-bc003b48c5ba",
   "metadata": {},
   "outputs": [],
   "source": [
    "%%timeit\n",
    "numba_exp(A, out=out3)"
   ]
  },
  {
   "cell_type": "code",
   "execution_count": null,
   "id": "a28e4ea8-f7a2-4b45-b6cc-b91aaf8963db",
   "metadata": {
    "slideshow": {
     "slide_type": "subslide"
    }
   },
   "outputs": [],
   "source": [
    "import numba\n",
    "\n",
    "numba.set_num_threads(8)"
   ]
  },
  {
   "cell_type": "code",
   "execution_count": null,
   "id": "daeaf053",
   "metadata": {},
   "outputs": [],
   "source": [
    "%%timeit\n",
    "numba_exp(A, out=out3)"
   ]
  }
 ],
 "metadata": {
  "celltoolbar": "Slideshow",
  "kernelspec": {
   "display_name": "Python 3 (ipykernel)",
   "language": "python",
   "name": "python3"
  },
  "language_info": {
   "codemirror_mode": {
    "name": "ipython",
    "version": 3
   },
   "file_extension": ".py",
   "mimetype": "text/x-python",
   "name": "python",
   "nbconvert_exporter": "python",
   "pygments_lexer": "ipython3",
   "version": "3.10.5"
  }
 },
 "nbformat": 4,
 "nbformat_minor": 5
}
